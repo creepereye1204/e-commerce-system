{
 "cells": [
  {
   "cell_type": "markdown",
   "metadata": {},
   "source": [
    "# Recommend Items Frequently Purchased Together\n",
    "This notebook demonstrates how recommending items that are frequently purchased together is effective. The current best scoring public notebook [here][1] recommends to customers those customers' last purchases and scores public LB 0.020. In this notebook here, we will begin with that idea and add recommending items that are frequently purchased together with a customers' previous purchaes. This notebook improves the LB and scores LB 0.021. This notebook's strategy is as follows:\n",
    "* recommend items previously purchased [idea here][1]\n",
    "* recommend items that are bought together with previous purchases [idea here][2]\n",
    "* recommend popular items [idea here][1]\n",
    "\n",
    "[1]: https://www.kaggle.com/hengzheng/time-is-our-best-friend-v2\n",
    "[2]: https://www.kaggle.com/cdeotte/customers-who-bought-this-frequently-buy-this"
   ]
  },
  {
   "cell_type": "markdown",
   "metadata": {},
   "source": [
    "# RAPIDS cuDF\n",
    "We will use RAPIDS cuDF for fast dataframe operations"
   ]
  },
  {
   "cell_type": "code",
   "execution_count": 1,
   "metadata": {
    "execution": {
     "iopub.execute_input": "2022-02-20T02:54:42.216574Z",
     "iopub.status.busy": "2022-02-20T02:54:42.216243Z",
     "iopub.status.idle": "2022-02-20T02:54:45.800073Z",
     "shell.execute_reply": "2022-02-20T02:54:45.799236Z",
     "shell.execute_reply.started": "2022-02-20T02:54:42.216493Z"
    },
    "trusted": true
   },
   "outputs": [
    {
     "name": "stdout",
     "output_type": "stream",
     "text": [
      "RAPIDS version 25.10.00\n"
     ]
    }
   ],
   "source": [
    "import cudf\n",
    "print('RAPIDS version',cudf.__version__)"
   ]
  },
  {
   "cell_type": "markdown",
   "metadata": {},
   "source": [
    "# Load Transactions, Reduce Memory\n",
    "Discussion about reducing memory is [here][1]\n",
    "\n",
    "[1]: https://www.kaggle.com/c/h-and-m-personalized-fashion-recommendations/discussion/308635"
   ]
  },
  {
   "cell_type": "code",
   "execution_count": 5,
   "metadata": {
    "execution": {
     "iopub.execute_input": "2022-02-20T02:54:45.80252Z",
     "iopub.status.busy": "2022-02-20T02:54:45.801797Z",
     "iopub.status.idle": "2022-02-20T02:55:25.310423Z",
     "shell.execute_reply": "2022-02-20T02:55:25.30968Z",
     "shell.execute_reply.started": "2022-02-20T02:54:45.802481Z"
    },
    "trusted": true
   },
   "outputs": [],
   "source": [
    "import pandas as pd\n",
    "import cudf\n",
    "\n",
    "df = pd.read_csv('/home/apps/recommender/transactions_train.csv')\n",
    "df = df[['t_dat', 'customer_id', 'article_id']]\n",
    "gdf = cudf.DataFrame.from_pandas(df)\n",
    "gdf['customer_id'] = gdf['customer_id'].str[-16:].str.hex_to_int().astype('int64')\n",
    "gdf['article_id'] = gdf['article_id'].astype('int32')\n",
    "gdf['t_dat'] = cudf.to_datetime(gdf['t_dat'])\n",
    "gdf.to_parquet('train.pqt', index=False)"
   ]
  },
  {
   "cell_type": "code",
   "execution_count": 14,
   "metadata": {},
   "outputs": [],
   "source": [
    "import pandas as pd\n",
    "import cudf\n",
    "import lightgbm as lgb\n",
    "from sklearn.model_selection import train_test_split\n",
    "from sklearn.metrics import ndcg_score\n"
   ]
  },
  {
   "cell_type": "code",
   "execution_count": 24,
   "metadata": {},
   "outputs": [
    {
     "ename": "KeyboardInterrupt",
     "evalue": "",
     "output_type": "error",
     "traceback": [
      "\u001b[31m---------------------------------------------------------------------------\u001b[39m",
      "\u001b[31mKeyboardInterrupt\u001b[39m                         Traceback (most recent call last)",
      "\u001b[36mCell\u001b[39m\u001b[36m \u001b[39m\u001b[32mIn[24]\u001b[39m\u001b[32m, line 78\u001b[39m\n\u001b[32m     75\u001b[39m     \u001b[38;5;28;01mreturn\u001b[39;00m model\n\u001b[32m     77\u001b[39m \u001b[38;5;66;03m# 9. 실행\u001b[39;00m\n\u001b[32m---> \u001b[39m\u001b[32m78\u001b[39m train_df = \u001b[43mbuild_training_data\u001b[49m\u001b[43m(\u001b[49m\u001b[43mtransactions\u001b[49m\u001b[43m,\u001b[49m\u001b[43m \u001b[49m\u001b[43muser_df\u001b[49m\u001b[43m,\u001b[49m\u001b[43m \u001b[49m\u001b[43mitem_df\u001b[49m\u001b[43m)\u001b[49m\n\u001b[32m     79\u001b[39m model = train_and_validate(train_df)\n",
      "\u001b[36mCell\u001b[39m\u001b[36m \u001b[39m\u001b[32mIn[24]\u001b[39m\u001b[32m, line 61\u001b[39m, in \u001b[36mbuild_training_data\u001b[39m\u001b[34m(transactions, user_df, item_df)\u001b[39m\n\u001b[32m     59\u001b[39m     \u001b[38;5;28;01mfor\u001b[39;00m item_id \u001b[38;5;129;01min\u001b[39;00m candidates:\n\u001b[32m     60\u001b[39m         label = \u001b[38;5;28mint\u001b[39m(item_id \u001b[38;5;129;01min\u001b[39;00m pos_items)\n\u001b[32m---> \u001b[39m\u001b[32m61\u001b[39m         features = \u001b[43mextract_features\u001b[49m\u001b[43m(\u001b[49m\u001b[43muser_id\u001b[49m\u001b[43m,\u001b[49m\u001b[43m \u001b[49m\u001b[43mitem_id\u001b[49m\u001b[43m,\u001b[49m\u001b[43m \u001b[49m\u001b[43muser_df\u001b[49m\u001b[43m,\u001b[49m\u001b[43m \u001b[49m\u001b[43mitem_df\u001b[49m\u001b[43m,\u001b[49m\u001b[43m \u001b[49m\u001b[43mlabel\u001b[49m\u001b[43m)\u001b[49m\n\u001b[32m     62\u001b[39m         data.append(features)\n\u001b[32m     63\u001b[39m \u001b[38;5;28;01mreturn\u001b[39;00m pd.DataFrame(data)\n",
      "\u001b[36mCell\u001b[39m\u001b[36m \u001b[39m\u001b[32mIn[24]\u001b[39m\u001b[32m, line 38\u001b[39m, in \u001b[36mextract_features\u001b[39m\u001b[34m(user_id, item_id, user_df, item_df, label)\u001b[39m\n\u001b[32m     35\u001b[39m \u001b[38;5;28;01melse\u001b[39;00m:\n\u001b[32m     36\u001b[39m     user_item_interaction = \u001b[38;5;28mint\u001b[39m(item_id \u001b[38;5;129;01min\u001b[39;00m prev_items)\n\u001b[32m---> \u001b[39m\u001b[32m38\u001b[39m user_age = \u001b[38;5;28mint\u001b[39m(\u001b[43muser_feat\u001b[49m\u001b[43m[\u001b[49m\u001b[33;43m'\u001b[39;49m\u001b[33;43mage\u001b[39;49m\u001b[33;43m'\u001b[39;49m\u001b[43m]\u001b[49m.fillna(\u001b[32m0\u001b[39m).values[\u001b[32m0\u001b[39m])\n\u001b[32m     39\u001b[39m item_category = \u001b[38;5;28mint\u001b[39m(item_feat[\u001b[33m'\u001b[39m\u001b[33mproduct_type_no\u001b[39m\u001b[33m'\u001b[39m].fillna(-\u001b[32m1\u001b[39m).values[\u001b[32m0\u001b[39m])\n\u001b[32m     40\u001b[39m item_group = \u001b[38;5;28mint\u001b[39m(item_feat[\u001b[33m'\u001b[39m\u001b[33mcolour_group_code\u001b[39m\u001b[33m'\u001b[39m].fillna(-\u001b[32m1\u001b[39m).values[\u001b[32m0\u001b[39m])\n",
      "\u001b[36mFile \u001b[39m\u001b[32m/home/apps/recommender/.venv/lib/python3.13/site-packages/cudf/utils/performance_tracking.py:51\u001b[39m, in \u001b[36m_performance_tracking.<locals>.wrapper\u001b[39m\u001b[34m(*args, **kwargs)\u001b[39m\n\u001b[32m     43\u001b[39m \u001b[38;5;28;01mif\u001b[39;00m nvtx.enabled():\n\u001b[32m     44\u001b[39m     stack.enter_context(\n\u001b[32m     45\u001b[39m         nvtx.annotate(\n\u001b[32m     46\u001b[39m             message=func.\u001b[34m__qualname__\u001b[39m,\n\u001b[32m   (...)\u001b[39m\u001b[32m     49\u001b[39m         )\n\u001b[32m     50\u001b[39m     )\n\u001b[32m---> \u001b[39m\u001b[32m51\u001b[39m \u001b[38;5;28;01mreturn\u001b[39;00m \u001b[43mfunc\u001b[49m\u001b[43m(\u001b[49m\u001b[43m*\u001b[49m\u001b[43margs\u001b[49m\u001b[43m,\u001b[49m\u001b[43m \u001b[49m\u001b[43m*\u001b[49m\u001b[43m*\u001b[49m\u001b[43mkwargs\u001b[49m\u001b[43m)\u001b[49m\n",
      "\u001b[36mFile \u001b[39m\u001b[32m/home/apps/recommender/.venv/lib/python3.13/site-packages/cudf/core/dataframe.py:1466\u001b[39m, in \u001b[36mDataFrame.__getitem__\u001b[39m\u001b[34m(self, arg)\u001b[39m\n\u001b[32m   1404\u001b[39m \u001b[38;5;250m\u001b[39m\u001b[33;03m\"\"\"\u001b[39;00m\n\u001b[32m   1405\u001b[39m \u001b[33;03mIf *arg* is a ``str`` or ``int`` type, return the column Series.\u001b[39;00m\n\u001b[32m   1406\u001b[39m \u001b[33;03mIf *arg* is a ``slice``, return a new DataFrame with all columns\u001b[39;00m\n\u001b[32m   (...)\u001b[39m\u001b[32m   1463\u001b[39m \u001b[33;03m8  8  8  8\u001b[39;00m\n\u001b[32m   1464\u001b[39m \u001b[33;03m\"\"\"\u001b[39;00m\n\u001b[32m   1465\u001b[39m \u001b[38;5;28;01mif\u001b[39;00m _is_scalar_or_zero_d_array(arg) \u001b[38;5;129;01mor\u001b[39;00m \u001b[38;5;28misinstance\u001b[39m(arg, \u001b[38;5;28mtuple\u001b[39m):\n\u001b[32m-> \u001b[39m\u001b[32m1466\u001b[39m     out = \u001b[38;5;28;43mself\u001b[39;49m\u001b[43m.\u001b[49m\u001b[43m_get_columns_by_label\u001b[49m\u001b[43m(\u001b[49m\u001b[43marg\u001b[49m\u001b[43m)\u001b[49m\n\u001b[32m   1467\u001b[39m     \u001b[38;5;28;01mif\u001b[39;00m is_scalar(arg):\n\u001b[32m   1468\u001b[39m         nlevels = \u001b[32m1\u001b[39m\n",
      "\u001b[36mFile \u001b[39m\u001b[32m/home/apps/recommender/.venv/lib/python3.13/site-packages/cudf/utils/performance_tracking.py:51\u001b[39m, in \u001b[36m_performance_tracking.<locals>.wrapper\u001b[39m\u001b[34m(*args, **kwargs)\u001b[39m\n\u001b[32m     43\u001b[39m \u001b[38;5;28;01mif\u001b[39;00m nvtx.enabled():\n\u001b[32m     44\u001b[39m     stack.enter_context(\n\u001b[32m     45\u001b[39m         nvtx.annotate(\n\u001b[32m     46\u001b[39m             message=func.\u001b[34m__qualname__\u001b[39m,\n\u001b[32m   (...)\u001b[39m\u001b[32m     49\u001b[39m         )\n\u001b[32m     50\u001b[39m     )\n\u001b[32m---> \u001b[39m\u001b[32m51\u001b[39m \u001b[38;5;28;01mreturn\u001b[39;00m \u001b[43mfunc\u001b[49m\u001b[43m(\u001b[49m\u001b[43m*\u001b[49m\u001b[43margs\u001b[49m\u001b[43m,\u001b[49m\u001b[43m \u001b[49m\u001b[43m*\u001b[49m\u001b[43m*\u001b[49m\u001b[43mkwargs\u001b[49m\u001b[43m)\u001b[49m\n",
      "\u001b[36mFile \u001b[39m\u001b[32m/home/apps/recommender/.venv/lib/python3.13/site-packages/cudf/core/indexed_frame.py:380\u001b[39m, in \u001b[36mIndexedFrame._get_columns_by_label\u001b[39m\u001b[34m(self, labels)\u001b[39m\n\u001b[32m    373\u001b[39m \u001b[38;5;129m@_performance_tracking\u001b[39m\n\u001b[32m    374\u001b[39m \u001b[38;5;28;01mdef\u001b[39;00m\u001b[38;5;250m \u001b[39m\u001b[34m_get_columns_by_label\u001b[39m(\u001b[38;5;28mself\u001b[39m, labels) -> Self:\n\u001b[32m    375\u001b[39m \u001b[38;5;250m    \u001b[39m\u001b[33;03m\"\"\"\u001b[39;00m\n\u001b[32m    376\u001b[39m \u001b[33;03m    Returns columns of the Frame specified by `labels`.\u001b[39;00m\n\u001b[32m    377\u001b[39m \n\u001b[32m    378\u001b[39m \u001b[33;03m    Akin to cudf.DataFrame(...).loc[:, labels]\u001b[39;00m\n\u001b[32m    379\u001b[39m \u001b[33;03m    \"\"\"\u001b[39;00m\n\u001b[32m--> \u001b[39m\u001b[32m380\u001b[39m     \u001b[38;5;28;01mreturn\u001b[39;00m \u001b[38;5;28;43mself\u001b[39;49m\u001b[43m.\u001b[49m\u001b[43m_from_data\u001b[49m\u001b[43m(\u001b[49m\n\u001b[32m    381\u001b[39m \u001b[43m        \u001b[49m\u001b[38;5;28;43mself\u001b[39;49m\u001b[43m.\u001b[49m\u001b[43m_data\u001b[49m\u001b[43m.\u001b[49m\u001b[43mselect_by_label\u001b[49m\u001b[43m(\u001b[49m\u001b[43mlabels\u001b[49m\u001b[43m)\u001b[49m\u001b[43m,\u001b[49m\n\u001b[32m    382\u001b[39m \u001b[43m        \u001b[49m\u001b[43mindex\u001b[49m\u001b[43m=\u001b[49m\u001b[38;5;28;43mself\u001b[39;49m\u001b[43m.\u001b[49m\u001b[43mindex\u001b[49m\u001b[43m,\u001b[49m\n\u001b[32m    383\u001b[39m \u001b[43m        \u001b[49m\u001b[43mattrs\u001b[49m\u001b[43m=\u001b[49m\u001b[38;5;28;43mself\u001b[39;49m\u001b[43m.\u001b[49m\u001b[43mattrs\u001b[49m\u001b[43m,\u001b[49m\n\u001b[32m    384\u001b[39m \u001b[43m    \u001b[49m\u001b[43m)\u001b[49m\n",
      "\u001b[36mFile \u001b[39m\u001b[32m/home/apps/recommender/.venv/lib/python3.13/site-packages/cudf/core/dataframe.py:1203\u001b[39m, in \u001b[36mDataFrame._from_data\u001b[39m\u001b[34m(cls, data, index, columns, attrs)\u001b[39m\n\u001b[32m   1195\u001b[39m \u001b[38;5;129m@classmethod\u001b[39m\n\u001b[32m   1196\u001b[39m \u001b[38;5;28;01mdef\u001b[39;00m\u001b[38;5;250m \u001b[39m\u001b[34m_from_data\u001b[39m(  \u001b[38;5;66;03m# type: ignore[override]\u001b[39;00m\n\u001b[32m   1197\u001b[39m     \u001b[38;5;28mcls\u001b[39m,\n\u001b[32m   (...)\u001b[39m\u001b[32m   1201\u001b[39m     attrs: \u001b[38;5;28mdict\u001b[39m | \u001b[38;5;28;01mNone\u001b[39;00m = \u001b[38;5;28;01mNone\u001b[39;00m,\n\u001b[32m   1202\u001b[39m ) -> Self:\n\u001b[32m-> \u001b[39m\u001b[32m1203\u001b[39m     out = \u001b[38;5;28;43msuper\u001b[39;49m\u001b[43m(\u001b[49m\u001b[43m)\u001b[49m\u001b[43m.\u001b[49m\u001b[43m_from_data\u001b[49m\u001b[43m(\u001b[49m\u001b[43mdata\u001b[49m\u001b[43m=\u001b[49m\u001b[43mdata\u001b[49m\u001b[43m,\u001b[49m\u001b[43m \u001b[49m\u001b[43mindex\u001b[49m\u001b[43m=\u001b[49m\u001b[43mindex\u001b[49m\u001b[43m,\u001b[49m\u001b[43m \u001b[49m\u001b[43mattrs\u001b[49m\u001b[43m=\u001b[49m\u001b[43mattrs\u001b[49m\u001b[43m)\u001b[49m\n\u001b[32m   1204\u001b[39m     \u001b[38;5;28;01mif\u001b[39;00m columns \u001b[38;5;129;01mis\u001b[39;00m \u001b[38;5;129;01mnot\u001b[39;00m \u001b[38;5;28;01mNone\u001b[39;00m:\n\u001b[32m   1205\u001b[39m         out.columns = columns\n",
      "\u001b[36mFile \u001b[39m\u001b[32m/home/apps/recommender/.venv/lib/python3.13/site-packages/cudf/core/indexed_frame.py:361\u001b[39m, in \u001b[36mIndexedFrame._from_data\u001b[39m\u001b[34m(cls, data, index, attrs)\u001b[39m\n\u001b[32m    354\u001b[39m \u001b[38;5;129m@classmethod\u001b[39m\n\u001b[32m    355\u001b[39m \u001b[38;5;28;01mdef\u001b[39;00m\u001b[38;5;250m \u001b[39m\u001b[34m_from_data\u001b[39m(  \u001b[38;5;66;03m# type: ignore[override]\u001b[39;00m\n\u001b[32m    356\u001b[39m     \u001b[38;5;28mcls\u001b[39m,\n\u001b[32m   (...)\u001b[39m\u001b[32m    359\u001b[39m     attrs: \u001b[38;5;28mdict\u001b[39m | \u001b[38;5;28;01mNone\u001b[39;00m = \u001b[38;5;28;01mNone\u001b[39;00m,\n\u001b[32m    360\u001b[39m ):\n\u001b[32m--> \u001b[39m\u001b[32m361\u001b[39m     out = \u001b[38;5;28;43msuper\u001b[39;49m\u001b[43m(\u001b[49m\u001b[43m)\u001b[49m\u001b[43m.\u001b[49m\u001b[43m_from_data\u001b[49m\u001b[43m(\u001b[49m\u001b[43mdata\u001b[49m\u001b[43m)\u001b[49m\n\u001b[32m    362\u001b[39m     \u001b[38;5;28;01mif\u001b[39;00m index \u001b[38;5;129;01mis\u001b[39;00m \u001b[38;5;28;01mNone\u001b[39;00m:\n\u001b[32m    363\u001b[39m         \u001b[38;5;66;03m# out._num_rows requires .index to be defined\u001b[39;00m\n\u001b[32m    364\u001b[39m         index = RangeIndex(out._data.nrows)\n",
      "\u001b[36mFile \u001b[39m\u001b[32m/home/apps/recommender/.venv/lib/python3.13/site-packages/cudf/utils/performance_tracking.py:51\u001b[39m, in \u001b[36m_performance_tracking.<locals>.wrapper\u001b[39m\u001b[34m(*args, **kwargs)\u001b[39m\n\u001b[32m     43\u001b[39m \u001b[38;5;28;01mif\u001b[39;00m nvtx.enabled():\n\u001b[32m     44\u001b[39m     stack.enter_context(\n\u001b[32m     45\u001b[39m         nvtx.annotate(\n\u001b[32m     46\u001b[39m             message=func.\u001b[34m__qualname__\u001b[39m,\n\u001b[32m   (...)\u001b[39m\u001b[32m     49\u001b[39m         )\n\u001b[32m     50\u001b[39m     )\n\u001b[32m---> \u001b[39m\u001b[32m51\u001b[39m \u001b[38;5;28;01mreturn\u001b[39;00m \u001b[43mfunc\u001b[49m\u001b[43m(\u001b[49m\u001b[43m*\u001b[49m\u001b[43margs\u001b[49m\u001b[43m,\u001b[49m\u001b[43m \u001b[49m\u001b[43m*\u001b[49m\u001b[43m*\u001b[49m\u001b[43mkwargs\u001b[49m\u001b[43m)\u001b[49m\n",
      "\u001b[36mFile \u001b[39m\u001b[32m/home/apps/recommender/.venv/lib/python3.13/site-packages/cudf/core/frame.py:198\u001b[39m, in \u001b[36mFrame._from_data\u001b[39m\u001b[34m(cls, data)\u001b[39m\n\u001b[32m    196\u001b[39m     obj = \u001b[38;5;28mobject\u001b[39m.\u001b[34m__new__\u001b[39m(\u001b[38;5;28mcls\u001b[39m)\n\u001b[32m    197\u001b[39m \u001b[38;5;28;01melse\u001b[39;00m:\n\u001b[32m--> \u001b[39m\u001b[32m198\u001b[39m     obj = \u001b[38;5;28;43mcls\u001b[39;49m\u001b[43m.\u001b[49m\u001b[34;43m__new__\u001b[39;49m\u001b[43m(\u001b[49m\u001b[38;5;28;43mcls\u001b[39;49m\u001b[43m)\u001b[49m\n\u001b[32m    199\u001b[39m Frame.\u001b[34m__init__\u001b[39m(obj, data)\n\u001b[32m    200\u001b[39m \u001b[38;5;28;01mreturn\u001b[39;00m obj\n",
      "\u001b[31mKeyboardInterrupt\u001b[39m: "
     ]
    }
   ],
   "source": [
    "gdf['customer_id'] = gdf['customer_id'].astype('str').str[-16:].str.hex_to_int().astype('int64')\n",
    "gdf['article_id'] = gdf['article_id'].astype('int32')\n",
    "gdf['t_dat'] = cudf.to_datetime(gdf['t_dat'])\n",
    "transactions = gdf\n",
    "\n",
    "# 2. 사용자/아이템 정보 로딩\n",
    "user_df_pd = pd.read_csv('/home/apps/recommender/customers.csv')\n",
    "item_df_pd = pd.read_csv('/home/apps/recommender/articles.csv')\n",
    "user_df = cudf.DataFrame.from_pandas(user_df_pd)\n",
    "item_df = cudf.DataFrame.from_pandas(item_df_pd)\n",
    "\n",
    "# 3. customer_id 해시 변환\n",
    "user_df['customer_id'] = user_df['customer_id'].str[-16:].str.hex_to_int().astype('int64')\n",
    "\n",
    "# 4. 사용자별 구매 이력 생성\n",
    "user_history = transactions.groupby('customer_id')['article_id'].agg(list).reset_index()\n",
    "user_history = user_history.rename(columns={'article_id': 'prev_items'})\n",
    "user_df = user_df.merge(user_history, on='customer_id', how='left')\n",
    "\n",
    "# 5. Recall 후보 생성\n",
    "def recall_candidates(transactions, user_id, top_n=100):\n",
    "    user_id = int(user_id)\n",
    "    recent_items = transactions[transactions['customer_id'] == user_id] \\\n",
    "        .sort_values('t_dat', ascending=False)['article_id'].unique().to_arrow().to_pylist()\n",
    "    popular_items = transactions['article_id'].value_counts().head(top_n).index.to_arrow().to_pylist()\n",
    "    return list(set(recent_items) | set(popular_items))\n",
    "\n",
    "def extract_features(user_id, item_id, user_df, item_df, label):\n",
    "    user_feat = user_df[user_df['customer_id'] == user_id]\n",
    "    item_feat = item_df[item_df['article_id'] == item_id]\n",
    "\n",
    "    prev_items = user_feat['prev_items'].to_pandas().iloc[0]\n",
    "    if prev_items is None:\n",
    "        user_item_interaction = 0\n",
    "    else:\n",
    "        user_item_interaction = int(item_id in prev_items)\n",
    "\n",
    "    user_age = int(user_feat['age'].fillna(0).values[0])\n",
    "    item_category = int(item_feat['product_type_no'].fillna(-1).values[0])\n",
    "    item_group = int(item_feat['colour_group_code'].fillna(-1).values[0])\n",
    "    item_department = int(item_feat['department_no'].fillna(-1).values[0])\n",
    "\n",
    "    return {\n",
    "        'user_age': user_age,\n",
    "        'item_category': item_category,\n",
    "        'item_group': item_group,\n",
    "        'item_department': item_department,\n",
    "        'user_item_interaction': user_item_interaction,\n",
    "        'label': label\n",
    "    }\n",
    "# 7. 학습 데이터 생성\n",
    "def build_training_data(transactions, user_df, item_df):\n",
    "    data = []\n",
    "    user_ids = user_df['customer_id'].to_arrow().to_pylist()\n",
    "    for user_id in user_ids:\n",
    "        user_id = int(user_id)\n",
    "        pos_items = transactions[transactions['customer_id'] == user_id]['article_id'].unique().to_arrow().to_pylist()\n",
    "        candidates = recall_candidates(transactions, user_id)\n",
    "        for item_id in candidates:\n",
    "            label = int(item_id in pos_items)\n",
    "            features = extract_features(user_id, item_id, user_df, item_df, label)\n",
    "            data.append(features)\n",
    "    return pd.DataFrame(data)\n",
    "\n",
    "# 8. 학습 및 검증\n",
    "def train_and_validate(df):\n",
    "    X = df.drop(columns=['label'])\n",
    "    y = df['label']\n",
    "    X_train, X_val, y_train, y_val = train_test_split(X, y, test_size=0.2, random_state=42)\n",
    "    model = lgb.LGBMClassifier()\n",
    "    model.fit(X_train, y_train)\n",
    "    y_pred = model.predict_proba(X_val)[:, 1]\n",
    "    ndcg = ndcg_score([y_val], [y_pred])\n",
    "    print(f\"NDCG@k: {ndcg:.4f}\")\n",
    "    return model\n",
    "\n",
    "# 9. 실행\n",
    "train_df = build_training_data(transactions, user_df, item_df)\n",
    "model = train_and_validate(train_df)\n"
   ]
  },
  {
   "cell_type": "markdown",
   "metadata": {},
   "source": [
    "# Find Each Customer's Last Week of Purchases\n",
    "Our final predictions will have the row order from of our dataframe. Each row of our dataframe will be a prediction. We will create the `predictionstring` later by `train.groupby('customer_id').article_id.sum()`. Since `article_id` is a string, when we groupby sum, it will concatenate all the customer predictions into a single string. It will also create the string in the order of the dataframe. So as we proceed in this notebook, we will order the dataframe how we want our predictions ordered."
   ]
  },
  {
   "cell_type": "code",
   "execution_count": 25,
   "metadata": {
    "execution": {
     "iopub.execute_input": "2022-02-20T02:55:25.311959Z",
     "iopub.status.busy": "2022-02-20T02:55:25.311718Z",
     "iopub.status.idle": "2022-02-20T02:55:25.495643Z",
     "shell.execute_reply": "2022-02-20T02:55:25.494879Z",
     "shell.execute_reply.started": "2022-02-20T02:55:25.311925Z"
    },
    "trusted": true
   },
   "outputs": [
    {
     "ename": "KeyboardInterrupt",
     "evalue": "",
     "output_type": "error",
     "traceback": [
      "\u001b[31m---------------------------------------------------------------------------\u001b[39m",
      "\u001b[31mKeyboardInterrupt\u001b[39m                         Traceback (most recent call last)",
      "\u001b[36mCell\u001b[39m\u001b[36m \u001b[39m\u001b[32mIn[25]\u001b[39m\u001b[32m, line 78\u001b[39m\n\u001b[32m     75\u001b[39m     \u001b[38;5;28;01mreturn\u001b[39;00m model\n\u001b[32m     77\u001b[39m \u001b[38;5;66;03m# 9. 실행\u001b[39;00m\n\u001b[32m---> \u001b[39m\u001b[32m78\u001b[39m train_df = \u001b[43mbuild_training_data\u001b[49m\u001b[43m(\u001b[49m\u001b[43mtransactions\u001b[49m\u001b[43m,\u001b[49m\u001b[43m \u001b[49m\u001b[43muser_df\u001b[49m\u001b[43m,\u001b[49m\u001b[43m \u001b[49m\u001b[43mitem_df\u001b[49m\u001b[43m)\u001b[49m\n\u001b[32m     79\u001b[39m model = train_and_validate(train_df)\n",
      "\u001b[36mCell\u001b[39m\u001b[36m \u001b[39m\u001b[32mIn[25]\u001b[39m\u001b[32m, line 61\u001b[39m, in \u001b[36mbuild_training_data\u001b[39m\u001b[34m(transactions, user_df, item_df)\u001b[39m\n\u001b[32m     59\u001b[39m     \u001b[38;5;28;01mfor\u001b[39;00m item_id \u001b[38;5;129;01min\u001b[39;00m candidates:\n\u001b[32m     60\u001b[39m         label = \u001b[38;5;28mint\u001b[39m(item_id \u001b[38;5;129;01min\u001b[39;00m pos_items)\n\u001b[32m---> \u001b[39m\u001b[32m61\u001b[39m         features = \u001b[43mextract_features\u001b[49m\u001b[43m(\u001b[49m\u001b[43muser_id\u001b[49m\u001b[43m,\u001b[49m\u001b[43m \u001b[49m\u001b[43mitem_id\u001b[49m\u001b[43m,\u001b[49m\u001b[43m \u001b[49m\u001b[43muser_df\u001b[49m\u001b[43m,\u001b[49m\u001b[43m \u001b[49m\u001b[43mitem_df\u001b[49m\u001b[43m,\u001b[49m\u001b[43m \u001b[49m\u001b[43mlabel\u001b[49m\u001b[43m)\u001b[49m\n\u001b[32m     62\u001b[39m         data.append(features)\n\u001b[32m     63\u001b[39m \u001b[38;5;28;01mreturn\u001b[39;00m pd.DataFrame(data)\n",
      "\u001b[36mCell\u001b[39m\u001b[36m \u001b[39m\u001b[32mIn[25]\u001b[39m\u001b[32m, line 32\u001b[39m, in \u001b[36mextract_features\u001b[39m\u001b[34m(user_id, item_id, user_df, item_df, label)\u001b[39m\n\u001b[32m     29\u001b[39m user_feat = user_df[user_df[\u001b[33m'\u001b[39m\u001b[33mcustomer_id\u001b[39m\u001b[33m'\u001b[39m] == user_id]\n\u001b[32m     30\u001b[39m item_feat = item_df[item_df[\u001b[33m'\u001b[39m\u001b[33marticle_id\u001b[39m\u001b[33m'\u001b[39m] == item_id]\n\u001b[32m---> \u001b[39m\u001b[32m32\u001b[39m prev_items = \u001b[43muser_feat\u001b[49m\u001b[43m[\u001b[49m\u001b[33;43m'\u001b[39;49m\u001b[33;43mprev_items\u001b[39;49m\u001b[33;43m'\u001b[39;49m\u001b[43m]\u001b[49m.to_pandas().iloc[\u001b[32m0\u001b[39m]\n\u001b[32m     33\u001b[39m \u001b[38;5;28;01mif\u001b[39;00m prev_items \u001b[38;5;129;01mis\u001b[39;00m \u001b[38;5;28;01mNone\u001b[39;00m:\n\u001b[32m     34\u001b[39m     user_item_interaction = \u001b[32m0\u001b[39m\n",
      "\u001b[36mFile \u001b[39m\u001b[32m/home/apps/recommender/.venv/lib/python3.13/site-packages/cudf/utils/performance_tracking.py:51\u001b[39m, in \u001b[36m_performance_tracking.<locals>.wrapper\u001b[39m\u001b[34m(*args, **kwargs)\u001b[39m\n\u001b[32m     43\u001b[39m \u001b[38;5;28;01mif\u001b[39;00m nvtx.enabled():\n\u001b[32m     44\u001b[39m     stack.enter_context(\n\u001b[32m     45\u001b[39m         nvtx.annotate(\n\u001b[32m     46\u001b[39m             message=func.\u001b[34m__qualname__\u001b[39m,\n\u001b[32m   (...)\u001b[39m\u001b[32m     49\u001b[39m         )\n\u001b[32m     50\u001b[39m     )\n\u001b[32m---> \u001b[39m\u001b[32m51\u001b[39m \u001b[38;5;28;01mreturn\u001b[39;00m \u001b[43mfunc\u001b[49m\u001b[43m(\u001b[49m\u001b[43m*\u001b[49m\u001b[43margs\u001b[49m\u001b[43m,\u001b[49m\u001b[43m \u001b[49m\u001b[43m*\u001b[49m\u001b[43m*\u001b[49m\u001b[43mkwargs\u001b[49m\u001b[43m)\u001b[49m\n",
      "\u001b[36mFile \u001b[39m\u001b[32m/home/apps/recommender/.venv/lib/python3.13/site-packages/cudf/core/dataframe.py:1466\u001b[39m, in \u001b[36mDataFrame.__getitem__\u001b[39m\u001b[34m(self, arg)\u001b[39m\n\u001b[32m   1404\u001b[39m \u001b[38;5;250m\u001b[39m\u001b[33;03m\"\"\"\u001b[39;00m\n\u001b[32m   1405\u001b[39m \u001b[33;03mIf *arg* is a ``str`` or ``int`` type, return the column Series.\u001b[39;00m\n\u001b[32m   1406\u001b[39m \u001b[33;03mIf *arg* is a ``slice``, return a new DataFrame with all columns\u001b[39;00m\n\u001b[32m   (...)\u001b[39m\u001b[32m   1463\u001b[39m \u001b[33;03m8  8  8  8\u001b[39;00m\n\u001b[32m   1464\u001b[39m \u001b[33;03m\"\"\"\u001b[39;00m\n\u001b[32m   1465\u001b[39m \u001b[38;5;28;01mif\u001b[39;00m _is_scalar_or_zero_d_array(arg) \u001b[38;5;129;01mor\u001b[39;00m \u001b[38;5;28misinstance\u001b[39m(arg, \u001b[38;5;28mtuple\u001b[39m):\n\u001b[32m-> \u001b[39m\u001b[32m1466\u001b[39m     out = \u001b[38;5;28;43mself\u001b[39;49m\u001b[43m.\u001b[49m\u001b[43m_get_columns_by_label\u001b[49m\u001b[43m(\u001b[49m\u001b[43marg\u001b[49m\u001b[43m)\u001b[49m\n\u001b[32m   1467\u001b[39m     \u001b[38;5;28;01mif\u001b[39;00m is_scalar(arg):\n\u001b[32m   1468\u001b[39m         nlevels = \u001b[32m1\u001b[39m\n",
      "\u001b[36mFile \u001b[39m\u001b[32m/home/apps/recommender/.venv/lib/python3.13/site-packages/cudf/utils/performance_tracking.py:51\u001b[39m, in \u001b[36m_performance_tracking.<locals>.wrapper\u001b[39m\u001b[34m(*args, **kwargs)\u001b[39m\n\u001b[32m     43\u001b[39m \u001b[38;5;28;01mif\u001b[39;00m nvtx.enabled():\n\u001b[32m     44\u001b[39m     stack.enter_context(\n\u001b[32m     45\u001b[39m         nvtx.annotate(\n\u001b[32m     46\u001b[39m             message=func.\u001b[34m__qualname__\u001b[39m,\n\u001b[32m   (...)\u001b[39m\u001b[32m     49\u001b[39m         )\n\u001b[32m     50\u001b[39m     )\n\u001b[32m---> \u001b[39m\u001b[32m51\u001b[39m \u001b[38;5;28;01mreturn\u001b[39;00m \u001b[43mfunc\u001b[49m\u001b[43m(\u001b[49m\u001b[43m*\u001b[49m\u001b[43margs\u001b[49m\u001b[43m,\u001b[49m\u001b[43m \u001b[49m\u001b[43m*\u001b[49m\u001b[43m*\u001b[49m\u001b[43mkwargs\u001b[49m\u001b[43m)\u001b[49m\n",
      "\u001b[36mFile \u001b[39m\u001b[32m/home/apps/recommender/.venv/lib/python3.13/site-packages/cudf/core/indexed_frame.py:381\u001b[39m, in \u001b[36mIndexedFrame._get_columns_by_label\u001b[39m\u001b[34m(self, labels)\u001b[39m\n\u001b[32m    373\u001b[39m \u001b[38;5;129m@_performance_tracking\u001b[39m\n\u001b[32m    374\u001b[39m \u001b[38;5;28;01mdef\u001b[39;00m\u001b[38;5;250m \u001b[39m\u001b[34m_get_columns_by_label\u001b[39m(\u001b[38;5;28mself\u001b[39m, labels) -> Self:\n\u001b[32m    375\u001b[39m \u001b[38;5;250m    \u001b[39m\u001b[33;03m\"\"\"\u001b[39;00m\n\u001b[32m    376\u001b[39m \u001b[33;03m    Returns columns of the Frame specified by `labels`.\u001b[39;00m\n\u001b[32m    377\u001b[39m \n\u001b[32m    378\u001b[39m \u001b[33;03m    Akin to cudf.DataFrame(...).loc[:, labels]\u001b[39;00m\n\u001b[32m    379\u001b[39m \u001b[33;03m    \"\"\"\u001b[39;00m\n\u001b[32m    380\u001b[39m     \u001b[38;5;28;01mreturn\u001b[39;00m \u001b[38;5;28mself\u001b[39m._from_data(\n\u001b[32m--> \u001b[39m\u001b[32m381\u001b[39m         \u001b[38;5;28;43mself\u001b[39;49m\u001b[43m.\u001b[49m\u001b[43m_data\u001b[49m\u001b[43m.\u001b[49m\u001b[43mselect_by_label\u001b[49m\u001b[43m(\u001b[49m\u001b[43mlabels\u001b[49m\u001b[43m)\u001b[49m,\n\u001b[32m    382\u001b[39m         index=\u001b[38;5;28mself\u001b[39m.index,\n\u001b[32m    383\u001b[39m         attrs=\u001b[38;5;28mself\u001b[39m.attrs,\n\u001b[32m    384\u001b[39m     )\n",
      "\u001b[36mFile \u001b[39m\u001b[32m/home/apps/recommender/.venv/lib/python3.13/site-packages/cudf/core/column_accessor.py:430\u001b[39m, in \u001b[36mColumnAccessor.select_by_label\u001b[39m\u001b[34m(self, key)\u001b[39m\n\u001b[32m    428\u001b[39m     \u001b[38;5;28;01mif\u001b[39;00m \u001b[38;5;28many\u001b[39m(\u001b[38;5;28misinstance\u001b[39m(k, \u001b[38;5;28mslice\u001b[39m) \u001b[38;5;28;01mfor\u001b[39;00m k \u001b[38;5;129;01min\u001b[39;00m key):\n\u001b[32m    429\u001b[39m         \u001b[38;5;28;01mreturn\u001b[39;00m \u001b[38;5;28mself\u001b[39m._select_by_label_with_wildcard(key)\n\u001b[32m--> \u001b[39m\u001b[32m430\u001b[39m \u001b[38;5;28;01mreturn\u001b[39;00m \u001b[38;5;28;43mself\u001b[39;49m\u001b[43m.\u001b[49m\u001b[43m_select_by_label_grouped\u001b[49m\u001b[43m(\u001b[49m\u001b[43mkey\u001b[49m\u001b[43m)\u001b[49m\n",
      "\u001b[36mFile \u001b[39m\u001b[32m/home/apps/recommender/.venv/lib/python3.13/site-packages/cudf/core/column_accessor.py:601\u001b[39m, in \u001b[36mColumnAccessor._select_by_label_grouped\u001b[39m\u001b[34m(self, key)\u001b[39m\n\u001b[32m    598\u001b[39m result = \u001b[38;5;28mself\u001b[39m._grouped_data[key]\n\u001b[32m    599\u001b[39m \u001b[38;5;28;01mif\u001b[39;00m \u001b[38;5;28misinstance\u001b[39m(result, column.ColumnBase):\n\u001b[32m    600\u001b[39m     \u001b[38;5;66;03m# self._grouped_data[key] = self._data[key] so skip validation\u001b[39;00m\n\u001b[32m--> \u001b[39m\u001b[32m601\u001b[39m     \u001b[38;5;28;01mreturn\u001b[39;00m \u001b[38;5;28;43mtype\u001b[39;49m\u001b[43m(\u001b[49m\u001b[38;5;28;43mself\u001b[39;49m\u001b[43m)\u001b[49m\u001b[43m(\u001b[49m\n\u001b[32m    602\u001b[39m \u001b[43m        \u001b[49m\u001b[43mdata\u001b[49m\u001b[43m=\u001b[49m\u001b[43m{\u001b[49m\u001b[43mkey\u001b[49m\u001b[43m:\u001b[49m\u001b[43m \u001b[49m\u001b[43mresult\u001b[49m\u001b[43m}\u001b[49m\u001b[43m,\u001b[49m\n\u001b[32m    603\u001b[39m \u001b[43m        \u001b[49m\u001b[43mmultiindex\u001b[49m\u001b[43m=\u001b[49m\u001b[38;5;28;43mself\u001b[39;49m\u001b[43m.\u001b[49m\u001b[43mmultiindex\u001b[49m\u001b[43m,\u001b[49m\n\u001b[32m    604\u001b[39m \u001b[43m        \u001b[49m\u001b[43mlabel_dtype\u001b[49m\u001b[43m=\u001b[49m\u001b[38;5;28;43mself\u001b[39;49m\u001b[43m.\u001b[49m\u001b[43mlabel_dtype\u001b[49m\u001b[43m,\u001b[49m\n\u001b[32m    605\u001b[39m \u001b[43m        \u001b[49m\u001b[43mverify\u001b[49m\u001b[43m=\u001b[49m\u001b[38;5;28;43;01mFalse\u001b[39;49;00m\u001b[43m,\u001b[49m\n\u001b[32m    606\u001b[39m \u001b[43m    \u001b[49m\u001b[43m)\u001b[49m\n\u001b[32m    607\u001b[39m \u001b[38;5;28;01melse\u001b[39;00m:\n\u001b[32m    608\u001b[39m     \u001b[38;5;28;01mif\u001b[39;00m \u001b[38;5;28mself\u001b[39m.multiindex:\n",
      "\u001b[36mFile \u001b[39m\u001b[32m/home/apps/recommender/.venv/lib/python3.13/site-packages/cudf/core/column_accessor.py:124\u001b[39m, in \u001b[36mColumnAccessor.__init__\u001b[39m\u001b[34m(self, data, multiindex, level_names, rangeindex, label_dtype, verify)\u001b[39m\n\u001b[32m    122\u001b[39m     \u001b[38;5;28mself\u001b[39m.rangeindex: \u001b[38;5;28mbool\u001b[39m = data.rangeindex\n\u001b[32m    123\u001b[39m     \u001b[38;5;28mself\u001b[39m.label_dtype: Dtype | \u001b[38;5;28;01mNone\u001b[39;00m = data.label_dtype\n\u001b[32m--> \u001b[39m\u001b[32m124\u001b[39m \u001b[38;5;28;01melif\u001b[39;00m \u001b[38;5;28;43misinstance\u001b[39;49m\u001b[43m(\u001b[49m\u001b[43mdata\u001b[49m\u001b[43m,\u001b[49m\u001b[43m \u001b[49m\u001b[43mMutableMapping\u001b[49m\u001b[43m)\u001b[49m:\n\u001b[32m    125\u001b[39m     \u001b[38;5;66;03m# This code path is performance-critical for copies and should be\u001b[39;00m\n\u001b[32m    126\u001b[39m     \u001b[38;5;66;03m# modified with care.\u001b[39;00m\n\u001b[32m    127\u001b[39m     \u001b[38;5;28;01mif\u001b[39;00m data \u001b[38;5;129;01mand\u001b[39;00m verify:\n\u001b[32m    128\u001b[39m         \u001b[38;5;66;03m# Faster than next(iter(data.values()))\u001b[39;00m\n\u001b[32m    129\u001b[39m         column_length = \u001b[38;5;28mlen\u001b[39m(data[\u001b[38;5;28mnext\u001b[39m(\u001b[38;5;28miter\u001b[39m(data))])\n",
      "\u001b[36mFile \u001b[39m\u001b[32m<frozen abc>:119\u001b[39m, in \u001b[36m__instancecheck__\u001b[39m\u001b[34m(cls, instance)\u001b[39m\n",
      "\u001b[36mFile \u001b[39m\u001b[32m<frozen abc>:123\u001b[39m, in \u001b[36m__subclasscheck__\u001b[39m\u001b[34m(cls, subclass)\u001b[39m\n",
      "\u001b[36mFile \u001b[39m\u001b[32m<frozen _collections_abc>:435\u001b[39m, in \u001b[36m__subclasshook__\u001b[39m\u001b[34m(cls, C)\u001b[39m\n",
      "\u001b[31mKeyboardInterrupt\u001b[39m: "
     ]
    }
   ],
   "source": [
    "gdf['customer_id'] = gdf['customer_id'].astype('str').str[-16:].str.hex_to_int().astype('int64')\n",
    "gdf['article_id'] = gdf['article_id'].astype('int32')\n",
    "gdf['t_dat'] = cudf.to_datetime(gdf['t_dat'])\n",
    "transactions = gdf\n",
    "\n",
    "# 2. 사용자/아이템 정보 로딩\n",
    "user_df_pd = pd.read_csv('/home/apps/recommender/customers.csv')\n",
    "item_df_pd = pd.read_csv('/home/apps/recommender/articles.csv')\n",
    "user_df = cudf.DataFrame.from_pandas(user_df_pd)\n",
    "item_df = cudf.DataFrame.from_pandas(item_df_pd)\n",
    "\n",
    "# 3. customer_id 해시 변환\n",
    "user_df['customer_id'] = user_df['customer_id'].str[-16:].str.hex_to_int().astype('int64')\n",
    "\n",
    "# 4. 사용자별 구매 이력 생성\n",
    "user_history = transactions.groupby('customer_id')['article_id'].agg(list).reset_index()\n",
    "user_history = user_history.rename(columns={'article_id': 'prev_items'})\n",
    "user_df = user_df.merge(user_history, on='customer_id', how='left')\n",
    "\n",
    "# 5. Recall 후보 생성\n",
    "def recall_candidates(transactions, user_id, top_n=100):\n",
    "    user_id = int(user_id)\n",
    "    recent_items = transactions[transactions['customer_id'] == user_id] \\\n",
    "        .sort_values('t_dat', ascending=False)['article_id'].unique().to_arrow().to_pylist()\n",
    "    popular_items = transactions['article_id'].value_counts().head(top_n).index.to_arrow().to_pylist()\n",
    "    return list(set(recent_items) | set(popular_items))\n",
    "\n",
    "def extract_features(user_id, item_id, user_df, item_df, label):\n",
    "    user_feat = user_df[user_df['customer_id'] == user_id]\n",
    "    item_feat = item_df[item_df['article_id'] == item_id]\n",
    "\n",
    "    prev_items = user_feat['prev_items'].to_pandas().iloc[0]\n",
    "    if prev_items is None:\n",
    "        user_item_interaction = 0\n",
    "    else:\n",
    "        user_item_interaction = int(item_id in prev_items)\n",
    "\n",
    "    user_age = int(user_feat['age'].fillna(0).values[0])\n",
    "    item_category = int(item_feat['product_type_no'].fillna(-1).values[0])\n",
    "    item_group = int(item_feat['colour_group_code'].fillna(-1).values[0])\n",
    "    item_department = int(item_feat['department_no'].fillna(-1).values[0])\n",
    "\n",
    "    return {\n",
    "        'user_age': user_age,\n",
    "        'item_category': item_category,\n",
    "        'item_group': item_group,\n",
    "        'item_department': item_department,\n",
    "        'user_item_interaction': user_item_interaction,\n",
    "        'label': label\n",
    "    }\n",
    "# 7. 학습 데이터 생성\n",
    "def build_training_data(transactions, user_df, item_df):\n",
    "    data = []\n",
    "    user_ids = user_df['customer_id'].to_arrow().to_pylist()\n",
    "    for user_id in user_ids:\n",
    "        user_id = int(user_id)\n",
    "        pos_items = transactions[transactions['customer_id'] == user_id]['article_id'].unique().to_arrow().to_pylist()\n",
    "        candidates = recall_candidates(transactions, user_id)\n",
    "        for item_id in candidates:\n",
    "            label = int(item_id in pos_items)\n",
    "            features = extract_features(user_id, item_id, user_df, item_df, label)\n",
    "            data.append(features)\n",
    "    return pd.DataFrame(data)\n",
    "\n",
    "# 8. 학습 및 검증\n",
    "def train_and_validate(df):\n",
    "    X = df.drop(columns=['label'])\n",
    "    y = df['label']\n",
    "    X_train, X_val, y_train, y_val = train_test_split(X, y, test_size=0.2, random_state=42)\n",
    "    model = lgb.LGBMClassifier()\n",
    "    model.fit(X_train, y_train)\n",
    "    y_pred = model.predict_proba(X_val)[:, 1]\n",
    "    ndcg = ndcg_score([y_val], [y_pred])\n",
    "    print(f\"NDCG@k: {ndcg:.4f}\")\n",
    "    return model\n",
    "\n",
    "# 9. 실행\n",
    "train_df = build_training_data(transactions, user_df, item_df)\n",
    "model = train_and_validate(train_df)\n"
   ]
  },
  {
   "cell_type": "markdown",
   "metadata": {},
   "source": [
    "# (1) Recommend Most Often Previously Purchased Items\n",
    "Note that many operations in cuDF will shuffle the order of the dataframe rows. Therefore we need to sort afterward because we want the most often previously purchased items first. Because this will be the order of our predictons. Since we sort by `ct` and then `t_dat` will will recommend items that have been purchased more frequently first followed by items purchased more recently second."
   ]
  },
  {
   "cell_type": "code",
   "execution_count": null,
   "metadata": {
    "execution": {
     "iopub.execute_input": "2022-02-20T02:55:25.498561Z",
     "iopub.status.busy": "2022-02-20T02:55:25.497788Z",
     "iopub.status.idle": "2022-02-20T02:55:25.77822Z",
     "shell.execute_reply": "2022-02-20T02:55:25.777441Z",
     "shell.execute_reply.started": "2022-02-20T02:55:25.498521Z"
    },
    "trusted": true
   },
   "outputs": [],
   "source": [
    "tmp = train.groupby(['customer_id','article_id'])['t_dat'].agg('count').reset_index()\n",
    "tmp.columns = ['customer_id','article_id','ct']\n",
    "train = train.merge(tmp,on=['customer_id','article_id'],how='left')\n",
    "train = train.sort_values(['ct','t_dat'],ascending=False)\n",
    "train = train.drop_duplicates(['customer_id','article_id'])\n",
    "train = train.sort_values(['ct','t_dat'],ascending=False)\n",
    "train.head()"
   ]
  },
  {
   "cell_type": "markdown",
   "metadata": {},
   "source": [
    "# (2) Recommend Items Purchased Together\n",
    "In my notebook [here][1], we compute a dictionary of items frequently purchased together. We will load and use that dictionary below. Note that we use the command `drop_duplicates` so that we don't recommend an item that the user has already bought and we have already recommended above. We will need to use Pandas for some commands because RAPIDS cuDF doesn't have two conveinent commands, (1) create new column from dictionary map of another column (2) groupby aggregate strings sum.\n",
    "\n",
    "We concatenate these rows after the rows containing customers' previous purchases. Therefore we will recommend previous items first and then items purchased together second. Note the trick to convert a column of int32 into a prediction string (using groupby agg str sum) is from notebook [here][2]\n",
    "\n",
    "[1]: https://www.kaggle.com/cdeotte/customers-who-bought-this-frequently-buy-this\n",
    "[2]: https://www.kaggle.com/hiroshisakiyama/recommending-items-recently-bought"
   ]
  },
  {
   "cell_type": "code",
   "execution_count": null,
   "metadata": {
    "execution": {
     "iopub.execute_input": "2022-02-20T02:55:25.779975Z",
     "iopub.status.busy": "2022-02-20T02:55:25.779661Z",
     "iopub.status.idle": "2022-02-20T02:55:26.335798Z",
     "shell.execute_reply": "2022-02-20T02:55:26.335071Z",
     "shell.execute_reply.started": "2022-02-20T02:55:25.77994Z"
    },
    "trusted": true
   },
   "outputs": [],
   "source": [
    "# USE PANDAS TO MAP COLUMN WITH DICTIONARY\n",
    "import pandas as pd, numpy as np\n",
    "train = train.to_pandas()\n",
    "pairs = np.load('../input/hmitempairs/pairs_cudf.npy',allow_pickle=True).item()\n",
    "train['article_id2'] = train.article_id.map(pairs)"
   ]
  },
  {
   "cell_type": "code",
   "execution_count": null,
   "metadata": {
    "execution": {
     "iopub.execute_input": "2022-02-20T02:55:26.337426Z",
     "iopub.status.busy": "2022-02-20T02:55:26.337146Z",
     "iopub.status.idle": "2022-02-20T02:55:27.6275Z",
     "shell.execute_reply": "2022-02-20T02:55:27.626712Z",
     "shell.execute_reply.started": "2022-02-20T02:55:26.337365Z"
    },
    "trusted": true
   },
   "outputs": [],
   "source": [
    "# RECOMMENDATION OF PAIRED ITEMS\n",
    "train2 = train[['customer_id','article_id2']].copy()\n",
    "train2 = train2.loc[train2.article_id2.notnull()]\n",
    "train2 = train2.drop_duplicates(['customer_id','article_id2'])\n",
    "train2 = train2.rename({'article_id2':'article_id'},axis=1)"
   ]
  },
  {
   "cell_type": "code",
   "execution_count": null,
   "metadata": {
    "execution": {
     "iopub.execute_input": "2022-02-20T02:55:27.629036Z",
     "iopub.status.busy": "2022-02-20T02:55:27.628788Z",
     "iopub.status.idle": "2022-02-20T02:55:29.600364Z",
     "shell.execute_reply": "2022-02-20T02:55:29.599697Z",
     "shell.execute_reply.started": "2022-02-20T02:55:27.629002Z"
    },
    "trusted": true
   },
   "outputs": [],
   "source": [
    "# CONCATENATE PAIRED ITEM RECOMMENDATION AFTER PREVIOUS PURCHASED RECOMMENDATIONS\n",
    "train = train[['customer_id','article_id']]\n",
    "train = pd.concat([train,train2],axis=0,ignore_index=True)\n",
    "train.article_id = train.article_id.astype('int32')\n",
    "train = train.drop_duplicates(['customer_id','article_id'])"
   ]
  },
  {
   "cell_type": "code",
   "execution_count": null,
   "metadata": {
    "execution": {
     "iopub.execute_input": "2022-02-20T02:55:29.603286Z",
     "iopub.status.busy": "2022-02-20T02:55:29.601495Z",
     "iopub.status.idle": "2022-02-20T02:55:42.703889Z",
     "shell.execute_reply": "2022-02-20T02:55:42.703213Z",
     "shell.execute_reply.started": "2022-02-20T02:55:29.603253Z"
    },
    "trusted": true
   },
   "outputs": [],
   "source": [
    "# CONVERT RECOMMENDATIONS INTO SINGLE STRING\n",
    "train.article_id = ' 0' + train.article_id.astype('str')\n",
    "preds = cudf.DataFrame( train.groupby('customer_id').article_id.sum().reset_index() )\n",
    "preds.columns = ['customer_id','prediction']\n",
    "preds.head()"
   ]
  },
  {
   "cell_type": "markdown",
   "metadata": {},
   "source": [
    "# (3) Recommend Last Week's Most Popular Items\n",
    "After recommending previous purchases and items purchased together we will then recommend the 12 most popular items. Therefore if our previous recommendations did not fill up a customer's 12 recommendations, then it will be filled by popular items."
   ]
  },
  {
   "cell_type": "code",
   "execution_count": null,
   "metadata": {
    "execution": {
     "iopub.execute_input": "2022-02-20T02:55:42.705714Z",
     "iopub.status.busy": "2022-02-20T02:55:42.705242Z",
     "iopub.status.idle": "2022-02-20T02:55:43.170621Z",
     "shell.execute_reply": "2022-02-20T02:55:43.169177Z",
     "shell.execute_reply.started": "2022-02-20T02:55:42.705679Z"
    },
    "trusted": true
   },
   "outputs": [],
   "source": [
    "train = cudf.read_parquet('train.pqt')\n",
    "train.t_dat = cudf.to_datetime(train.t_dat)\n",
    "train = train.loc[train.t_dat >= cudf.to_datetime('2020-09-16')]\n",
    "top12 = ' 0' + ' 0'.join(train.article_id.value_counts().to_pandas().index.astype('str')[:12])\n",
    "print(\"Last week's top 12 popular items:\")\n",
    "print( top12 )"
   ]
  },
  {
   "cell_type": "markdown",
   "metadata": {},
   "source": [
    "# Write Submission CSV\n",
    "We will merge our predictions onto `sample_submission.csv` and submit to Kaggle."
   ]
  },
  {
   "cell_type": "code",
   "execution_count": null,
   "metadata": {
    "execution": {
     "iopub.execute_input": "2022-02-20T02:55:43.173205Z",
     "iopub.status.busy": "2022-02-20T02:55:43.172957Z",
     "iopub.status.idle": "2022-02-20T02:55:47.517952Z",
     "shell.execute_reply": "2022-02-20T02:55:47.517241Z",
     "shell.execute_reply.started": "2022-02-20T02:55:43.173171Z"
    },
    "trusted": true
   },
   "outputs": [],
   "source": [
    "sub = cudf.read_csv('../input/h-and-m-personalized-fashion-recommendations/sample_submission.csv')\n",
    "sub = sub[['customer_id']]\n",
    "sub['customer_id_2'] = sub['customer_id'].str[-16:].str.hex_to_int().astype('int64')\n",
    "sub = sub.merge(preds.rename({'customer_id':'customer_id_2'},axis=1),\\\n",
    "    on='customer_id_2', how='left').fillna('')\n",
    "del sub['customer_id_2']\n",
    "sub.prediction = sub.prediction + top12\n",
    "sub.prediction = sub.prediction.str.strip()\n",
    "sub.prediction = sub.prediction.str[:131]\n",
    "sub.to_csv(f'submission.csv',index=False)\n",
    "sub.head()"
   ]
  }
 ],
 "metadata": {
  "kaggle": {
   "accelerator": "gpu",
   "dataSources": [
    {
     "databundleVersionId": 3103714,
     "sourceId": 31254,
     "sourceType": "competition"
    },
    {
     "datasetId": 1945136,
     "sourceId": 3205676,
     "sourceType": "datasetVersion"
    }
   ],
   "dockerImageVersionId": 30163,
   "isGpuEnabled": true,
   "isInternetEnabled": false,
   "language": "python",
   "sourceType": "notebook"
  },
  "kernelspec": {
   "display_name": "recommender",
   "language": "python",
   "name": "python3"
  },
  "language_info": {
   "codemirror_mode": {
    "name": "ipython",
    "version": 3
   },
   "file_extension": ".py",
   "mimetype": "text/x-python",
   "name": "python",
   "nbconvert_exporter": "python",
   "pygments_lexer": "ipython3",
   "version": "3.13.0rc1"
  }
 },
 "nbformat": 4,
 "nbformat_minor": 4
}
